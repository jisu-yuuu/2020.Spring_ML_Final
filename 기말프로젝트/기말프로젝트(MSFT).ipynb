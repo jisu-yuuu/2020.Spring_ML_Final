{
 "cells": [
  {
   "cell_type": "code",
   "execution_count": 1,
   "metadata": {},
   "outputs": [],
   "source": [
    "import tensorflow as tf\n",
    "import numpy as np\n",
    "import pandas as pd\n",
    "import datetime\n",
    "import matplotlib.pyplot as plt\n"
   ]
  },
  {
   "cell_type": "code",
   "execution_count": 2,
   "metadata": {},
   "outputs": [],
   "source": [
    "tf.set_random_seed(777)"
   ]
  },
  {
   "cell_type": "code",
   "execution_count": 3,
   "metadata": {},
   "outputs": [
    {
     "name": "stdout",
     "output_type": "stream",
     "text": [
      "<class 'pandas.core.frame.DataFrame'>\n",
      "RangeIndex: 5034 entries, 0 to 5033\n",
      "Data columns (total 7 columns):\n",
      " #   Column     Non-Null Count  Dtype \n",
      "---  ------     --------------  ----- \n",
      " 0   date       5034 non-null   object\n",
      " 1   open       5034 non-null   object\n",
      " 2   high       5034 non-null   object\n",
      " 3   low        5034 non-null   object\n",
      " 4   close      5034 non-null   object\n",
      " 5   adj close  5034 non-null   object\n",
      " 6   volume     5034 non-null   object\n",
      "dtypes: object(7)\n",
      "memory usage: 275.4+ KB\n",
      "stk의 shape:  (5033, 6)\n",
      "stk[0]:  [3.3007813e+01 3.4187500e+01 3.3000000e+01 3.3437500e+01 2.1394083e+01\n",
      " 6.4400000e+07]\n"
     ]
    }
   ],
   "source": [
    "file = 'MSFT.csv' \n",
    "encoding = 'euc-kr' \n",
    "name = ['date','open','high','low','close','adj close','volume']\n",
    "df = pd.read_csv(file, names=name, encoding=encoding) \n",
    "df.info() \n",
    "\n",
    "del df['date'] \n",
    "\n",
    "stk = df.values[1:].astype(np.float) \n",
    "print(\"stk의 shape: \", stk.shape)\n",
    "print(\"stk[0]: \", stk[0])"
   ]
  },
  {
   "cell_type": "code",
   "execution_count": 4,
   "metadata": {},
   "outputs": [
    {
     "name": "stdout",
     "output_type": "stream",
     "text": [
      "price[0]:  [33.007813 34.1875   33.       33.4375   21.394083]\n",
      "n_price[0]:  [0.1192017  0.1257909  0.11915806 0.12160174 0.05433257]\n",
      "price의 shape:  (5033, 5)\n",
      "----------------------------------------------------------------------------------------------------\n",
      "vol[0]:  [64400000.]\n",
      "n_vol[0]:  [0.09762132]\n",
      "vol의 shape:  (5033, 1)\n",
      "----------------------------------------------------------------------------------------------------\n",
      "a[0]_(날짜 제외 첫날):  [0.1192017  0.1257909  0.11915806 0.12160174 0.05433257 0.09762132]\n",
      "a[-1]_(날짜 제외 마지막날):  [0.95486871 0.9834109  0.95146152 0.98045056 0.98045056 0.05563146]\n",
      "a의 shape:  (5033, 6)\n",
      "----------------------------------------------------------------------------------------------------\n",
      "b[0]_(첫날 종가):  [0.12160174]\n",
      "b[-1]_(마지막날 종가):  [0.98045056]\n"
     ]
    }
   ],
   "source": [
    "def mm_scaling(x):\n",
    "    x = np.asarray(x)\n",
    "    return (x - x.min()) / (x.max() - x.min() + 1e-7) \n",
    "\n",
    "price = stk[:,:-1]\n",
    "n_price = mm_scaling(price) \n",
    "print(\"price[0]: \", price[0])\n",
    "print(\"n_price[0]: \", n_price[0])\n",
    "print(\"price의 shape: \", price.shape)\n",
    "print(\"-\"*100)\n",
    "\n",
    "vol = stk[:,-1:]\n",
    "n_vol= mm_scaling(vol) \n",
    "print(\"vol[0]: \", vol[0])\n",
    "print(\"n_vol[0]: \", n_vol[0])\n",
    "print(\"vol의 shape: \", vol.shape)\n",
    "print(\"-\"*100)\n",
    "\n",
    "\n",
    "a = np.concatenate((n_price, n_vol), axis=1) \n",
    "print(\"a[0]_(날짜 제외 첫날): \", a[0])  \n",
    "print(\"a[-1]_(날짜 제외 마지막날): \", a[-1])  \n",
    "print(\"a의 shape: \", a.shape)\n",
    "print(\"-\"*100) \n",
    "\n",
    "b = a[:, [-3]] \n",
    "print(\"b[0]_(첫날 종가): \",b[0])    \n",
    "print(\"b[-1]_(마지막날 종가): \",b[-1])   \n"
   ]
  },
  {
   "cell_type": "code",
   "execution_count": 5,
   "metadata": {},
   "outputs": [
    {
     "name": "stdout",
     "output_type": "stream",
     "text": [
      "[[0.1192017  0.1257909  0.11915806 0.12160174 0.05433257 0.09762132]\n",
      " [0.12526726 0.12998007 0.12421996 0.12928187 0.05924656 0.15693836]\n",
      " [0.12823458 0.13242375 0.12229993 0.13172555 0.06081006 0.11802923]\n",
      " [0.13469288 0.13626382 0.1254418  0.12701274 0.05779467 0.14965048]\n",
      " [0.12928187 0.12945642 0.12561635 0.12701274 0.05779467 0.04846352]\n",
      " [0.12753639 0.12753639 0.12020535 0.12160174 0.05433257 0.07168111]\n",
      " [0.12125264 0.12474361 0.11950715 0.12439451 0.05611948 0.06316299]\n",
      " [0.12980552 0.13312194 0.12893278 0.13172555 0.06081006 0.12433772]\n",
      " [0.1325983  0.13783475 0.13207465 0.13696201 0.06416051 0.09966475]\n",
      " [0.1376602  0.13905659 0.13451833 0.13748566 0.06449548 0.10500721]\n",
      " [0.13748566 0.14097663 0.13591472 0.14062753 0.06650573 0.06713059]\n",
      " [0.14115118 0.14499125 0.14080208 0.1441185  0.06873932 0.09398029]\n",
      " [0.14987861 0.16436614 0.14970406 0.16017697 0.07901389 0.26210937]\n",
      " [0.16209701 0.16384249 0.1563369  0.15790784 0.07756216 0.13688478]\n",
      " [0.15808239 0.15843149 0.14987861 0.15179864 0.07365328 0.0726252 ]\n",
      " [0.15127499 0.15860603 0.15127499 0.15686055 0.07689202 0.07001292]\n",
      " [0.15616235 0.15860603 0.15371867 0.15494051 0.07566355 0.04051495]\n",
      " [0.15546416 0.15843149 0.15441687 0.15528961 0.07588685 0.0514603 ]\n",
      " [0.15336958 0.15528961 0.15005315 0.15040225 0.07275985 0.05315625]\n",
      " [0.15005315 0.15825694 0.14900586 0.15825694 0.07778541 0.07698552]\n",
      " [0.15738419 0.15843149 0.15651145 0.15825694 0.07778541 0.01423719]\n",
      " [0.15790784 0.15790784 0.15336958 0.15406777 0.07510511 0.04694577]\n",
      " [0.15511506 0.16296975 0.15406777 0.16087517 0.07946069 0.0693039 ]\n",
      " [0.16179155 0.16628617 0.15982787 0.16384249 0.0813592  0.08006421]\n",
      " [0.16017697 0.16192246 0.15651145 0.156686   0.07678032 0.07755678]\n",
      " [0.15494051 0.15965333 0.15406777 0.15581326 0.07622194 0.05095587]\n",
      " [0.15336958 0.16104971 0.15040225 0.15912968 0.07834385 0.08728972]\n",
      " [0.15494051 0.15825694 0.1509259  0.15808239 0.07767378 0.1257955 ]\n",
      " [0.15686055 0.15755874 0.15389322 0.15528961 0.07588685 0.07497088]\n",
      " [0.15336958 0.1570351  0.15127499 0.15319503 0.07454666 0.07978937]\n",
      " [0.15162409 0.15686055 0.15110045 0.15406777 0.07510511 0.10827402]\n",
      " [0.14726038 0.15127499 0.13818385 0.13905659 0.06550064 0.22702701]\n",
      " [0.13992934 0.14499125 0.13905659 0.14376941 0.06851599 0.080985  ]\n",
      " [0.14359486 0.14429305 0.13556562 0.13678746 0.0640488  0.08340093]\n",
      " [0.13608927 0.13626382 0.13032916 0.1319001  0.06092174 0.0835123 ]\n",
      " [0.1325983  0.13312194 0.1257909  0.12753639 0.05812969 0.0972591 ]\n",
      " [0.12771094 0.12893278 0.12264903 0.12421996 0.05600783 0.13361111]\n",
      " [0.12439451 0.13067826 0.12334722 0.12858368 0.05879981 0.11464865]\n",
      " [0.13294739 0.13539107 0.12928187 0.12945642 0.05935824 0.11688981]\n",
      " [0.13085281 0.13347104 0.12823458 0.12980552 0.05958159 0.10770277]\n",
      " [0.13015462 0.13050371 0.12526726 0.12666364 0.05757131 0.06808805]\n",
      " [0.12631455 0.131551   0.12614    0.12858368 0.05879981 0.06998242]\n",
      " [0.12526726 0.13137646 0.12509271 0.13102736 0.06036332 0.08073278]\n",
      " [0.12875823 0.12998007 0.12526726 0.12788548 0.05835308 0.05257094]\n",
      " [0.13085281 0.13347104 0.12963097 0.13032916 0.05991658 0.07764588]\n",
      " [0.13050371 0.14342031 0.13032916 0.14184937 0.06728749 0.22379583]\n",
      " [0.14080208 0.14394395 0.13905659 0.14219847 0.06751087 0.09684274]\n",
      " [0.14097663 0.14167482 0.13521652 0.1376602  0.06460714 0.0712106 ]\n",
      " [0.13713656 0.13783475 0.13486743 0.13713656 0.06427213 0.04832542]\n",
      " [0.13678746 0.13975479 0.13416923 0.13643836 0.06382547 0.07881992]\n",
      " [0.13591472 0.1387075  0.13451833 0.13486743 0.06282031 0.0570375 ]\n",
      " [0.13556562 0.13661291 0.1319001  0.13312194 0.06170347 0.06434011]\n",
      " [0.13347104 0.13591472 0.1319001  0.13469288 0.0627086  0.04915335]\n",
      " [0.13347104 0.13434378 0.13032916 0.13312194 0.06170347 0.08055356]\n",
      " [0.1322492  0.1325983  0.13050371 0.13207465 0.06103341 0.04573815]\n",
      " [0.1325983  0.13713656 0.13094008 0.13382014 0.06215021 0.0805354 ]\n",
      " [0.1325983  0.13347104 0.13137646 0.13242375 0.06125678 0.05020539]\n",
      " [0.13207465 0.13364559 0.13015462 0.13347104 0.06192683 0.05993524]\n",
      " [0.1322492  0.13504198 0.1319001  0.13207465 0.06103341 0.07762463]\n",
      " [0.13085281 0.13626382 0.13067826 0.13399468 0.06226191 0.08395094]\n",
      " [0.13364559 0.1380093  0.13277284 0.13294739 0.06159182 0.08905454]\n",
      " [0.1322492  0.13294739 0.12945642 0.13032916 0.05991658 0.07894294]\n",
      " [0.13277284 0.13591472 0.12945642 0.12980552 0.05958159 0.11162925]\n",
      " [0.13032916 0.13207465 0.12945642 0.13085281 0.06025166 0.05175261]\n",
      " [0.13032916 0.1322492  0.12980552 0.13067826 0.06014001 0.07424199]\n",
      " [0.13050371 0.1322492  0.12840913 0.12875823 0.05891146 0.09515536]\n",
      " [0.13032916 0.13608927 0.12875823 0.13050371 0.0600283  0.17868548]\n",
      " [0.13137646 0.13277284 0.12806003 0.12840913 0.05868814 0.0844444 ]\n",
      " [0.12788548 0.12945642 0.12491816 0.12701274 0.05779467 0.07036965]\n",
      " [0.12683819 0.12840913 0.12369632 0.12509271 0.05656624 0.06743284]\n",
      " [0.12352177 0.12683819 0.12247448 0.1254418  0.05678955 0.05708993]\n",
      " [0.12666364 0.12683819 0.11828531 0.11863441 0.05243401 0.12178574]\n",
      " [0.11758712 0.11811076 0.11165247 0.11409615 0.04953035 0.15847393]\n",
      " [0.11427069 0.11531799 0.10851059 0.11077972 0.04740844 0.10556784]\n",
      " [0.11252521 0.11845986 0.11182701 0.11636528 0.05098222 0.12317053]\n",
      " [0.11601618 0.11636528 0.11130337 0.11427069 0.04964204 0.10343223]\n",
      " [0.1135725  0.11671437 0.11235066 0.11409615 0.04953035 0.07115269]\n",
      " [0.10554327 0.11217611 0.10519417 0.11147792 0.04785514 0.13202106]\n",
      " [0.11147792 0.11217611 0.10362323 0.10589236 0.04428138 0.07891792]\n",
      " [0.10501962 0.11880896 0.10362323 0.10990698 0.04685004 0.25406518]\n",
      " [0.11200156 0.11235066 0.10187775 0.10414688 0.04316459 0.16916638]\n",
      " [0.10467052 0.10763785 0.10414688 0.10606691 0.04439303 0.07699238]\n",
      " [0.10519417 0.10606691 0.09856132 0.10327413 0.04260617 0.11416203]\n",
      " [0.10379778 0.10467052 0.09751403 0.09995771 0.04048427 0.08761904]\n",
      " [0.10117955 0.10187775 0.09262667 0.09280122 0.03590533 0.13355868]\n",
      " [0.09227757 0.09280122 0.08704112 0.08965934 0.03389516 0.22107937]\n",
      " [0.08983389 0.09472125 0.0891357  0.0894848  0.03378346 0.12623448]\n",
      " [0.09070664 0.09332487 0.08773931 0.09000844 0.03411848 0.09315614]\n",
      " [0.09018299 0.09053209 0.08285195 0.08616837 0.03166153 0.08720987]\n",
      " [0.08547018 0.09000844 0.08512108 0.08721566 0.0323316  0.09362253]\n",
      " [0.08564473 0.09384851 0.08564473 0.09053209 0.03445353 0.16068527]\n",
      " [0.09210302 0.09367396 0.08512108 0.08669202 0.03199654 0.14186125]\n",
      " [0.08529563 0.08808841 0.08040827 0.08494653 0.03087975 0.16636596]\n",
      " [0.08424834 0.08512108 0.07325178 0.07552091 0.02484902 0.19247478]\n",
      " [0.07971008 0.08128101 0.07517181 0.07569546 0.02496067 0.1265381 ]\n",
      " [0.07342633 0.08355014 0.0701099  0.07936098 0.02730597 0.17667255]\n",
      " [0.09803768 0.10851059 0.09681584 0.10763785 0.04539815 0.42761519]\n",
      " [0.10606691 0.11950715 0.10554327 0.11688892 0.05131724 0.26207339]\n",
      " [0.11531799 0.11985625 0.10432143 0.10833604 0.04584494 0.30455226]\n",
      " [0.10973243 0.11060517 0.10292504 0.10659056 0.0447281  0.149071  ]\n",
      " [0.1078124  0.11200156 0.10362323 0.10589236 0.04428138 0.27445322]\n",
      " [0.10519417 0.11653983 0.10467052 0.11479434 0.04997707 0.18402348]\n",
      " [0.11549253 0.12806003 0.11531799 0.12387087 0.05578446 0.20024242]\n",
      " [0.12334722 0.13067826 0.12299812 0.12771094 0.05824143 0.17585216]\n",
      " [0.12753639 0.12893278 0.12474361 0.12718729 0.05790637 0.16628509]\n",
      " [0.12614    0.13050371 0.12596545 0.12928187 0.05924656 0.1265943 ]\n",
      " [0.13137646 0.13268557 0.12928187 0.13120191 0.060475   0.12089853]\n",
      " [0.12823458 0.12928187 0.12491816 0.1254418  0.05678955 0.10500789]\n",
      " [0.12666364 0.13067826 0.1254418  0.12893278 0.05902315 0.115529  ]\n",
      " [0.12963097 0.13556562 0.12893278 0.13172555 0.06081006 0.16604041]\n",
      " [0.13347104 0.13696201 0.12474361 0.12875823 0.05891146 0.34049819]\n",
      " [0.12614    0.13399468 0.12596545 0.13277284 0.06148012 0.14329881]\n",
      " [0.13015462 0.13120191 0.12142719 0.12299812 0.05522605 0.14790073]\n",
      " [0.12107809 0.12509271 0.11470707 0.1203799  0.05355083 0.13011607]\n",
      " [0.12474361 0.12980552 0.12282358 0.12701274 0.05779467 0.13157899]\n",
      " [0.12771094 0.13277284 0.12666364 0.13050371 0.0600283  0.09080566]\n",
      " [0.12875823 0.13451833 0.12736184 0.12736184 0.05801804 0.14513218]\n",
      " [0.12875823 0.13032916 0.12417633 0.12771094 0.05824143 0.16980035]\n",
      " [0.12509271 0.12614    0.11793622 0.12247448 0.05489099 0.12462009]\n",
      " [0.12299812 0.12823458 0.12299812 0.12404542 0.05589614 0.0892043 ]\n",
      " [0.1193326  0.12893278 0.11915806 0.1254418  0.05678955 0.11808509]\n",
      " [0.12753639 0.131551   0.12614    0.13015462 0.05980494 0.04628576]\n",
      " [0.13434378 0.13661291 0.13207465 0.1322492  0.06114508 0.13344491]\n",
      " [0.12858368 0.12963097 0.12142719 0.12195083 0.05455593 0.20564621]\n",
      " [0.12142719 0.12229993 0.11147792 0.11653983 0.05109386 0.15567282]\n",
      " [0.10798695 0.10816149 0.09402306 0.09507035 0.0373572  0.32516544]\n",
      " [0.09699039 0.10414688 0.09140483 0.09297577 0.03601701 0.17542758]\n",
      " [0.09472125 0.09960861 0.08896115 0.09245212 0.035682   0.12504845]\n",
      " [0.10013226 0.10379778 0.09751403 0.10205229 0.04182438 0.16159099]\n",
      " [0.10240139 0.10257594 0.09140483 0.09315032 0.03612874 0.14244587]] >> [0.08320105]\n"
     ]
    }
   ],
   "source": [
    "dataA = [] \n",
    "dataB = [] \n",
    "seq_len = 130 \n",
    "\n",
    "for i in range(0, len(b) - seq_len):\n",
    "    aa = a[i : i+seq_len]\n",
    "    bb = b[i + seq_len] \n",
    "    if i is 0:\n",
    "        print(aa, \">>\", bb) \n",
    "    dataA.append(aa) \n",
    "    dataB.append(bb) "
   ]
  },
  {
   "cell_type": "code",
   "execution_count": 6,
   "metadata": {},
   "outputs": [],
   "source": [
    "trainsize = int(len(dataB) * 0.8)\n",
    "\n",
    "testsize = len(dataB) - trainsize\n",
    "\n",
    "trainA = np.array(dataA[0:trainsize])\n",
    "trainB = np.array(dataB[0:trainsize])\n",
    " \n",
    "testA = np.array(dataA[trainsize:len(dataA)])\n",
    "testB = np.array(dataB[trainsize:len(dataB)])"
   ]
  },
  {
   "cell_type": "code",
   "execution_count": 7,
   "metadata": {},
   "outputs": [
    {
     "name": "stdout",
     "output_type": "stream",
     "text": [
      "입력 :  Tensor(\"Placeholder:0\", shape=(?, 130, 6), dtype=float32)\n",
      "출력 :  Tensor(\"Placeholder_1:0\", shape=(?, 1), dtype=float32)\n",
      "targets :  Tensor(\"Placeholder_2:0\", shape=(?, 1), dtype=float32)\n",
      "predictions :  Tensor(\"Placeholder_3:0\", shape=(?, 1), dtype=float32)\n"
     ]
    }
   ],
   "source": [
    "A = tf.placeholder(tf.float32, [None, seq_len, 6])\n",
    "print(\"입력 : \", A)\n",
    "B= tf.placeholder(tf.float32, [None, 1])\n",
    "print(\"출력 : \", B)\n",
    "\n",
    "targets = tf.placeholder(tf.float32, [None, 1])\n",
    "print(\"targets : \", targets)\n",
    " \n",
    "predict = tf.placeholder(tf.float32, [None, 1])\n",
    "print(\"predictions : \", predict)"
   ]
  },
  {
   "cell_type": "code",
   "execution_count": 8,
   "metadata": {},
   "outputs": [
    {
     "name": "stdout",
     "output_type": "stream",
     "text": [
      "WARNING:tensorflow:\n",
      "The TensorFlow contrib module will not be included in TensorFlow 2.0.\n",
      "For more information, please see:\n",
      "  * https://github.com/tensorflow/community/blob/master/rfcs/20180907-contrib-sunset.md\n",
      "  * https://github.com/tensorflow/addons\n",
      "  * https://github.com/tensorflow/io (for I/O related ops)\n",
      "If you depend on functionality not listed there, please file an issue.\n",
      "\n",
      "WARNING:tensorflow:From <ipython-input-8-ccf8e99ecb8f>:5: BasicLSTMCell.__init__ (from tensorflow.python.ops.rnn_cell_impl) is deprecated and will be removed in a future version.\n",
      "Instructions for updating:\n",
      "This class is equivalent as tf.keras.layers.LSTMCell, and will be replaced by that in Tensorflow 2.0.\n"
     ]
    }
   ],
   "source": [
    "kp_prb = 1.0   \n",
    "f_bias = 1.0\n",
    "def lstmcell():\n",
    "    cell = tf.contrib.rnn.BasicLSTMCell(num_units=20, \n",
    "                                        forget_bias=f_bias, state_is_tuple=True, activation=tf.nn.softsign)\n",
    "    if kp_prb < 1.0:\n",
    "        cell = tf.contrib.rnn.DropoutWrapper(cell, out_kp_prb=kp_prb)\n",
    "    return cell\n",
    "\n",
    "num_stklayers = 1 \n",
    "multi_cell = tf.contrib.rnn.MultiRNNCell([lstmcell() for _ in range(1)], state_is_tuple=True) if num_stklayers > 1 else lstmcell()\n",
    " "
   ]
  },
  {
   "cell_type": "code",
   "execution_count": 9,
   "metadata": {},
   "outputs": [
    {
     "name": "stdout",
     "output_type": "stream",
     "text": [
      "WARNING:tensorflow:From <ipython-input-9-bc628b3f2b80>:1: dynamic_rnn (from tensorflow.python.ops.rnn) is deprecated and will be removed in a future version.\n",
      "Instructions for updating:\n",
      "Please use `keras.layers.RNN(cell)`, which is equivalent to this API\n",
      "WARNING:tensorflow:From c:\\users\\jisu yu\\appdata\\local\\programs\\python\\python37\\lib\\site-packages\\tensorflow_core\\python\\ops\\rnn_cell_impl.py:735: Layer.add_variable (from tensorflow.python.keras.engine.base_layer) is deprecated and will be removed in a future version.\n",
      "Instructions for updating:\n",
      "Please use `layer.add_weight` method instead.\n",
      "WARNING:tensorflow:From c:\\users\\jisu yu\\appdata\\local\\programs\\python\\python37\\lib\\site-packages\\tensorflow_core\\python\\ops\\rnn_cell_impl.py:739: calling Zeros.__init__ (from tensorflow.python.ops.init_ops) with dtype is deprecated and will be removed in a future version.\n",
      "Instructions for updating:\n",
      "Call initializer instance with the dtype argument instead of passing it to the constructor\n",
      "hypothesis:  Tensor(\"rnn/transpose_1:0\", shape=(?, 130, 20), dtype=float32)\n",
      "WARNING:tensorflow:From c:\\users\\jisu yu\\appdata\\local\\programs\\python\\python37\\lib\\site-packages\\tensorflow_core\\contrib\\layers\\python\\layers\\layers.py:1866: Layer.apply (from tensorflow.python.keras.engine.base_layer) is deprecated and will be removed in a future version.\n",
      "Instructions for updating:\n",
      "Please use `layer.__call__` method instead.\n"
     ]
    }
   ],
   "source": [
    "hypo, _states = tf.nn.dynamic_rnn(multi_cell, A, dtype=tf.float32 )\n",
    "print(\"hypothesis: \", hypo)\n",
    "\n",
    "\n",
    "hypo = tf.contrib.layers.fully_connected(hypo[:, -1],1, activation_fn=tf.identity)\n"
   ]
  },
  {
   "cell_type": "code",
   "execution_count": 10,
   "metadata": {},
   "outputs": [],
   "source": [
    "loss = tf.reduce_sum(tf.square(hypo - B))\n",
    "\n",
    "learnrate = 0.001 \n",
    "opt = tf.train.AdamOptimizer(learnrate)\n",
    " \n",
    "train = opt.minimize(loss)\n",
    "\n",
    "rmse = tf.sqrt(tf.reduce_mean(tf.squared_difference(targets, predict)))"
   ]
  },
  {
   "cell_type": "code",
   "execution_count": 11,
   "metadata": {},
   "outputs": [
    {
     "name": "stdout",
     "output_type": "stream",
     "text": [
      "학습을 시작합니다.\n",
      "epoch: 100, train error(P): 0.008320359513163567, test error(Q): 0.12684577703475952, Q-P: 0.1185254156589508\n",
      "epoch: 200, train error(P): 0.007145269308239222, test error(Q): 0.11003640294075012, Q-P: 0.10289113223552704\n",
      "epoch: 300, train error(P): 0.005994584411382675, test error(Q): 0.08608215302228928, Q-P: 0.0800875723361969\n",
      "epoch: 400, train error(P): 0.0051990109495818615, test error(Q): 0.04448613151907921, Q-P: 0.03928712010383606\n",
      "epoch: 500, train error(P): 0.005008980631828308, test error(Q): 0.030018901452422142, Q-P: 0.025009920820593834\n",
      "epoch: 600, train error(P): 0.00485687330365181, test error(Q): 0.022112881764769554, Q-P: 0.017256008461117744\n",
      "epoch: 700, train error(P): 0.00473368214443326, test error(Q): 0.0183575376868248, Q-P: 0.013623856008052826\n",
      "epoch: 800, train error(P): 0.004631130024790764, test error(Q): 0.01659322902560234, Q-P: 0.011962099000811577\n",
      "epoch: 900, train error(P): 0.004542648792266846, test error(Q): 0.01578483358025551, Q-P: 0.011242184787988663\n",
      "epoch: 1000, train error(P): 0.00446381326764822, test error(Q): 0.015552809461951256, Q-P: 0.011088996194303036\n",
      "경과 시간: 0:14:41.954374\n",
      "에폭당 경과시간: 0:00:00.881954\n"
     ]
    }
   ],
   "source": [
    "trainerrors = [] \n",
    "testerrors = []  \n",
    "testpredict = ''        \n",
    "\n",
    "sess = tf.Session()\n",
    "sess.run(tf.global_variables_initializer())\n",
    "ep_num = 1000   \n",
    "\n",
    "starttime = datetime.datetime.now() \n",
    "print('학습을 시작합니다.')\n",
    "for epoch in range(ep_num):\n",
    "    _, _loss = sess.run([train, loss], feed_dict={A: trainA, B: trainB})\n",
    "    if ((epoch+1) % 100 == 0) or (epoch == ep_num-1): \n",
    "        trainpredict = sess.run(hypo, feed_dict={A: trainA})\n",
    "        trainerror = sess.run(rmse, feed_dict={targets: trainB, predict: trainpredict})\n",
    "        trainerrors.append(trainerror)\n",
    " \n",
    "        testpredict = sess.run(hypo, feed_dict={A: testA})\n",
    "        testerror = sess.run(rmse, feed_dict={targets: testB, predict: testpredict})\n",
    "        testerrors.append(testerror)\n",
    " \n",
    "        print(\"epoch: {}, train error(P): {}, test error(Q): {}, Q-P: {}\".format(epoch+1, trainerror, testerror, testerror-trainerror))\n",
    "        \n",
    "endtime = datetime.datetime.now() \n",
    "time = endtime - starttime \n",
    "print('경과 시간:',time)\n",
    "print('에폭당 경과시간:',time/ep_num)"
   ]
  },
  {
   "cell_type": "code",
   "execution_count": 12,
   "metadata": {},
   "outputs": [
    {
     "name": "stdout",
     "output_type": "stream",
     "text": [
      "입력 데이터 컬럼의 수 :  6\n",
      "결과 데이터 컬럼의수 : 1\n",
      "시퀀스 길이 :  130\n",
      "각 셀의 출력 크기 :  20\n",
      "forget_bias :  1.0\n",
      "stacked LSTM의 레이어 수: 1\n",
      "dropout 할때 keep 할 비율 : 1.0\n",
      "에폭 횟수 :  1000\n",
      "learning rate :  0.001\n",
      "train_error(최종) :  0.0044638133\n",
      "test_error(최종) :  0.015552809\n",
      "test_error(최소) :  0.015552809\n"
     ]
    }
   ],
   "source": [
    "incol_num = 6\n",
    "outcol_num = 1 \n",
    "celhid = 20  \n",
    "\n",
    "\n",
    "print('입력 데이터 컬럼의 수 : ', incol_num  )\n",
    "print('결과 데이터 컬럼의수 :', outcol_num)\n",
    "print('시퀀스 길이 : ', seq_len)\n",
    "print('각 셀의 출력 크기 : ', celhid)\n",
    "print('forget_bias : ', f_bias)\n",
    "print('stacked LSTM의 레이어 수:', 1)\n",
    "print('dropout 할때 keep 할 비율 :', kp_prb)\n",
    " \n",
    "print('에폭 횟수 : ', ep_num)\n",
    "print('learning rate : ', learnrate)\n",
    " \n",
    "print('train_error(최종) : ', trainerrors[-1])\n",
    "print('test_error(최종) : ', testerrors[-1])\n",
    "print('test_error(최소) : ', np.min(testerrors))"
   ]
  },
  {
   "cell_type": "code",
   "execution_count": 13,
   "metadata": {},
   "outputs": [
    {
     "data": {
      "image/png": "[encoded data removed]",
      "text/plain": [
       "<Figure size 432x288 with 1 Axes>"
      ]
     },
     "metadata": {
      "needs_background": "light"
     },
     "output_type": "display_data"
    },
    {
     "data": {
      "image/png": "[encoded data removed]",
      "text/plain": [
       "<Figure size 432x288 with 1 Axes>"
      ]
     },
     "metadata": {
      "needs_background": "light"
     },
     "output_type": "display_data"
    }
   ],
   "source": [
    "plt.figure(1)\n",
    "plt.plot(trainerrors, 'red')\n",
    "plt.plot(testerrors, 'green')\n",
    "plt.xlabel(\"Epoch * 100\")\n",
    "plt.ylabel('RMSE')\n",
    " \n",
    "plt.figure(2)\n",
    "plt.plot(testB, 'red')\n",
    "plt.plot(testpredict, 'green')\n",
    "plt.xlabel('Time')\n",
    "plt.ylabel('Price')\n",
    "plt.show()"
   ]
  },
  {
   "cell_type": "code",
   "execution_count": 14,
   "metadata": {
    "scrolled": true
   },
   "outputs": [
    {
     "name": "stdout",
     "output_type": "stream",
     "text": [
      "최근 데이터의 shape : (1, 130, 6)\n",
      "최근 데이터 :  [[[0.78439764 0.78551474 0.77981745 0.78037604 0.77573089 0.00779899]\n",
      "  [0.78277779 0.78288952 0.76328425 0.77015446 0.76556549 0.03425615]\n",
      "  [0.75864823 0.76948414 0.7539563  0.7688139  0.76423225 0.02851207]\n",
      "  [0.77344992 0.7736733  0.76819948 0.77183014 0.76723188 0.01738971]\n",
      "  [0.77294724 0.77445536 0.76976343 0.77227692 0.76767626 0.01789415]\n",
      "  [0.77819767 0.7831129  0.77417607 0.78244266 0.7777861  0.01538295]\n",
      "  [0.77864453 0.78501206 0.77775082 0.7802643  0.77561976 0.01586939]\n",
      "  [0.77987327 0.78322464 0.77691294 0.77897965 0.77434218 0.01550735]\n",
      "  [0.78126966 0.7831129  0.77451119 0.78216337 0.77750834 0.01958615]\n",
      "  [0.78188408 0.79188226 0.77836523 0.79076517 0.78606293 0.02944777]\n",
      "  [0.78942461 0.7999813  0.78847507 0.7979705  0.79322871 0.02813408]\n",
      "  [0.80121013 0.80562268 0.79959036 0.80355606 0.79878349 0.02864606]\n",
      "  [0.8031092  0.8045615  0.79752365 0.79886421 0.79411747 0.03084164]\n",
      "  [0.79668585 0.80327676 0.79601552 0.79707679 0.79233994 0.02862035]\n",
      "  [0.79501016 0.80489662 0.79361377 0.8045615  0.79978349 0.03004198]\n",
      "  [0.8137218  0.82008933 0.80780104 0.81405693 0.80922675 0.07890644]\n",
      "  [0.81802262 0.81802262 0.81327495 0.81405693 0.80922675 0.01763559]\n",
      "  [0.81444787 0.81573261 0.81243706 0.81388936 0.80906004 0.00267911]\n",
      "  [0.81489473 0.82142981 0.81400101 0.82109469 0.81622582 0.01215675]\n",
      "  [0.82545142 0.82601001 0.81858121 0.82271455 0.81783682 0.01882574]\n",
      "  [0.82288211 0.82304967 0.8102587  0.81506228 0.81022657 0.01528854]\n",
      "  [0.81048217 0.81606773 0.80869475 0.8156767  0.81083757 0.01875137]\n",
      "  [0.82170911 0.83260092 0.81919562 0.83198651 0.82705781 0.02603805]\n",
      "  [0.8191398  0.8282442  0.8176875  0.8208154  0.81594807 0.02345781]\n",
      "  [0.81221368 0.82349652 0.80902988 0.8231055  0.81822564 0.0229395 ]\n",
      "  [0.82472535 0.82668025 0.81355424 0.81500646 0.81017109 0.02434519]\n",
      "  [0.82254691 0.83299195 0.81707309 0.82902617 0.82411367 0.03481832]\n",
      "  [0.83880089 0.84092343 0.83427661 0.84019728 0.83522341 0.02391838]\n",
      "  [0.84427479 0.84650898 0.83511441 0.83600811 0.83105734 0.02278906]\n",
      "  [0.83835404 0.84701166 0.83556126 0.8468441  0.84183375 0.02433217]\n",
      "  [0.84745851 0.84863152 0.83813065 0.84042075 0.83544569 0.02750354]\n",
      "  [0.84315761 0.85053059 0.8428784  0.84628551 0.84127832 0.02397475]\n",
      "  [0.85282069 0.86337738 0.85103327 0.86298635 0.85788737 0.02816835]\n",
      "  [0.86996829 0.87024759 0.85885301 0.86818096 0.86305343 0.0461701 ]\n",
      "  [0.86583496 0.87426919 0.86443857 0.86482959 0.85972047 0.03785228]\n",
      "  [0.86985656 0.87035932 0.8602494  0.86036113 0.85527655 0.0286368 ]\n",
      "  [0.86309808 0.86650528 0.85795938 0.86605842 0.86094256 0.02099836]\n",
      "  [0.87047098 0.87058271 0.85337919 0.85667465 0.85161035 0.02997207]\n",
      "  [0.83494684 0.84740269 0.82964058 0.84125855 0.83627889 0.04224019]\n",
      "  [0.84963688 0.86069626 0.84567118 0.85902066 0.85394349 0.02994089]\n",
      "  [0.87231422 0.87739709 0.86030531 0.87343131 0.86827488 0.046826  ]\n",
      "  [0.90700055 0.90700055 0.88879158 0.89990687 0.89460504 0.07568521]\n",
      "  [0.89672315 0.89778433 0.88203311 0.88566369 0.8804401  0.04920458]\n",
      "  [0.88678079 0.90951403 0.88661322 0.90884379 0.90349287 0.038935  ]\n",
      "  [0.92425989 0.94380933 0.91962387 0.94090482 0.93537782 0.0497025 ]\n",
      "  [0.96274436 0.96369389 0.93135357 0.93967599 0.93415572 0.05441956]\n",
      "  [0.94565258 0.96157144 0.9405697  0.96051017 0.95487544 0.03482672]\n",
      "  [0.95615345 0.97168128 0.95408674 0.96196238 0.95631964 0.04472637]\n",
      "  [0.96023088 0.98961086 0.95838763 0.98882889 0.98303853 0.04869329]\n",
      "  [0.9997207  1.         0.95978402 0.96503446 0.95937484 0.07836226]\n",
      "  [0.97140199 0.97291011 0.95056789 0.96654258 0.96087461 0.06791551]\n",
      "  [0.9574381  0.97503256 0.9562651  0.96095703 0.95531982 0.04775348]\n",
      "  [0.95838763 0.97045245 0.95503627 0.97011733 0.96442976 0.02694171]\n",
      "  [0.97156955 0.98324334 0.97095513 0.98061812 0.97487293 0.03489663]\n",
      "  [0.98525414 0.98592438 0.97637313 0.98089741 0.97799213 0.03867524]\n",
      "  [0.97905417 0.98072985 0.94637873 0.96492272 0.96206185 0.05043773]\n",
      "  [0.95794078 0.95978402 0.92487431 0.93235893 0.92958848 0.07050227]\n",
      "  [0.87192327 0.90979333 0.84656481 0.88935017 0.88669914 0.1043227 ]\n",
      "  [0.90783835 0.9114131  0.87125295 0.87359895 0.87099172 0.10391524]\n",
      "  [0.88275926 0.90258792 0.87438093 0.88532857 0.88268869 0.08358169]\n",
      "  [0.84706757 0.86778993 0.81724065 0.81835774 0.81590392 0.14668283]\n",
      "  [0.78612915 0.84924594 0.78383905 0.83975043 0.8372372  0.15360506]\n",
      "  [0.85818277 0.90068884 0.84142611 0.89996269 0.89728225 0.1089827 ]\n",
      "  [0.90560416 0.91230681 0.84114682 0.85371431 0.85116231 0.11008991]\n",
      "  [0.87594488 0.88828891 0.85991428 0.88745111 0.88480535 0.07263   ]\n",
      "  [0.86231611 0.88923844 0.86030531 0.86354494 0.86096558 0.06920812]\n",
      "  [0.84310179 0.84589457 0.80618127 0.83729285 0.83478644 0.11205024]\n",
      "  [0.7782535  0.81595599 0.77266794 0.77613096 0.77379441 0.10793494]\n",
      "  [0.81824609 0.83427661 0.78707869 0.83366219 0.83116584 0.09925661]\n",
      "  [0.81249298 0.8156767  0.7790913  0.79294353 0.79056028 0.08386527]\n",
      "  [0.74641585 0.79204982 0.70888092 0.71156197 0.70940473 0.14701318]\n",
      "  [0.75870406 0.83919192 0.72088983 0.8219884  0.81952444 0.14615818]\n",
      "  [0.7168124  0.76903737 0.68888462 0.69123055 0.68912974 0.1378969 ]\n",
      "  [0.7168124  0.75870406 0.68888462 0.75350953 0.7512358  0.12616663]\n",
      "  [0.70564129 0.75032573 0.68899636 0.71904659 0.71686857 0.12708057]\n",
      "  [0.73228441 0.77350574 0.71122684 0.73194929 0.72973547 0.13449884]\n",
      "  [0.75032573 0.75646987 0.69368821 0.70201071 0.69987999 0.13268861]\n",
      "  [0.70011156 0.7199962  0.67503247 0.69435845 0.69224903 0.12259482]\n",
      "  [0.73775823 0.77043376 0.72390607 0.7633959  0.76109472 0.12866292]\n",
      "  [0.76657971 0.79685341 0.74161227 0.75546442 0.75318524 0.11687713]\n",
      "  [0.76373102 0.80986776 0.76356346 0.80679569 0.80437399 0.09790935]\n",
      "  [0.78244266 0.7999813  0.76819948 0.77099226 0.76866994 0.08501446]\n",
      "  [0.78629671 0.83187486 0.77272377 0.82980815 0.82732253 0.09594268]\n",
      "  [0.82517212 0.85522244 0.80930917 0.81573261 0.81328603 0.12079915]\n",
      "  [0.78942461 0.81595599 0.77724814 0.78445347 0.78209382 0.08660383]\n",
      "  [0.78305708 0.80327676 0.77467875 0.80204793 0.79963936 0.07231524]\n",
      "  [0.80115431 0.81388936 0.78490032 0.79406063 0.79167431 0.05794407]\n",
      "  [0.83031091 0.86482959 0.81500646 0.85795938 0.85539553 0.10226761]\n",
      "  [0.88208894 0.88437904 0.84673237 0.8480171  0.84548086 0.09482673]\n",
      "  [0.86019357 0.86577913 0.84807293 0.85717741 0.85461578 0.07006637]\n",
      "  [0.86404762 0.869689   0.8471234  0.85723323 0.85467143 0.07540129]\n",
      "  [0.85282069 0.85963507 0.84137028 0.85929987 0.85673234 0.05907836]\n",
      "  [0.87879348 0.90532487 0.87320793 0.90504557 0.90235098 0.07787291]\n",
      "  [0.89108168 0.9043195  0.88013404 0.89487991 0.89221352 0.05742576]\n",
      "  [0.90839694 0.92504187 0.90057711 0.9237013  0.92095489 0.07376977]\n",
      "  [0.9374418  0.94023458 0.91716621 0.93241484 0.92964422 0.07768666]\n",
      "  [0.92141129 0.93325264 0.91225098 0.91264193 0.9099262  0.05010738]\n",
      "  [0.90392848 0.90487801 0.86265123 0.87220257 0.86959917 0.08357758]\n",
      "  [0.89214295 0.90672125 0.88895923 0.90404021 0.90134843 0.04664969]\n",
      "  [0.90733567 0.91264193 0.88946191 0.89231051 0.88965129 0.04346135]\n",
      "  [0.89588527 0.90984915 0.88834482 0.90979333 0.90708552 0.04605633]\n",
      "  [0.92118782 0.92291933 0.90281138 0.90700055 0.9043005  0.04415289]\n",
      "  [0.91560226 0.91604912 0.88097184 0.88331777 0.88068352 0.04620608]\n",
      "  [0.90236453 0.92727606 0.89487991 0.92587967 0.9231272  0.0751525 ]\n",
      "  [0.94023458 0.94246877 0.91917702 0.93582203 0.93304195 0.07922137]\n",
      "  [0.91677527 0.93263822 0.90677708 0.90990506 0.907197   0.05473517]\n",
      "  [0.9094582  0.93464903 0.90560416 0.93375532 0.93098095 0.03931846]\n",
      "  [0.9436976  0.96062182 0.93967599 0.94447958 0.94167546 0.05039798]\n",
      "  [0.95185255 0.96369389 0.94933906 0.95442185 0.95159013 0.04234505]\n",
      "  [0.96352633 0.96564887 0.95464532 0.96034261 0.95749444 0.03579412]\n",
      "  [0.96805062 0.96816235 0.95900205 0.96637494 0.96350997 0.0402432 ]\n",
      "  [0.95782905 0.98218207 0.95615345 0.97788125 0.97498432 0.04006637]\n",
      "  [0.97821637 0.97955685 0.95308137 0.9542543  0.951423   0.04217183]\n",
      "  [0.95447776 0.96285609 0.92090852 0.93883819 0.93604976 0.06388657]\n",
      "  [0.92649408 0.94408863 0.91610495 0.94319492 0.94039438 0.05902455]\n",
      "  [0.93498415 0.97966859 0.92347792 0.95788496 0.9550436  0.06714019]\n",
      "  [0.97235152 0.974865   0.96235342 0.96765968 0.96479113 0.04777198]\n",
      "  [0.96832992 0.97709928 0.9597282  0.96051017 0.95766148 0.03319503]\n",
      "  [0.96710109 0.97291011 0.96224168 0.97184884 0.97184884 0.04084067]\n",
      "  [0.97039654 0.97749022 0.95861102 0.959393   0.959393   0.03717086]\n",
      "  [0.95805251 0.96514619 0.95442185 0.95983985 0.95983985 0.02296211]\n",
      "  [0.97564698 0.97654069 0.94637873 0.94900394 0.94900394 0.04908618]\n",
      "  [0.94135168 0.95134986 0.92124373 0.95034442 0.95034442 0.05498636]\n",
      "  [0.94436792 0.9634146  0.94235712 0.94805432 0.94805432 0.04520801]\n",
      "  [0.95548312 0.96408492 0.94252468 0.95838763 0.95838763 0.05949198]\n",
      "  [0.95442185 0.95699125 0.94838953 0.95604171 0.95604171 0.02603857]\n",
      "  [0.96397319 0.96816235 0.94777511 0.96765968 0.96765968 0.04004101]\n",
      "  [0.96715699 0.97341279 0.96023088 0.97017316 0.97017316 0.03407213]\n",
      "  [0.96425248 0.9728542  0.95308137 0.95654439 0.95654439 0.03655796]\n",
      "  [0.95486871 0.9834109  0.95146152 0.98045056 0.98045056 0.05563146]]]\n"
     ]
    }
   ],
   "source": [
    "redata = np.array([a[len(a)-seq_len : ]])\n",
    "print(\"최근 데이터의 shape :\", redata.shape)\n",
    "print(\"최근 데이터 : \", redata)"
   ]
  },
  {
   "cell_type": "code",
   "execution_count": 15,
   "metadata": {},
   "outputs": [],
   "source": [
    "def re_mm_scaling(org_x, x):\n",
    "    org_x = np.asarray(org_x)\n",
    "    x = np.asarray(x)\n",
    "    return (x * (org_x.max() - org_x.min() + 1e-7)) + org_x.min()"
   ]
  },
  {
   "cell_type": "code",
   "execution_count": 16,
   "metadata": {},
   "outputs": [
    {
     "name": "stdout",
     "output_type": "stream",
     "text": [
      "test predict :  [0.9632552]\n",
      "다음날 주가(예축) :  [184.12146]\n",
      "다음날 주가(실제) :  [188.36]\n"
     ]
    }
   ],
   "source": [
    "testpredict = sess.run(hypo, feed_dict={A: redata})\n",
    " \n",
    "print(\"test predict : \", testpredict[0])\n",
    "testpredict = re_mm_scaling(price,testpredict) \n",
    "print(\"다음날 주가(예축) : \", testpredict[0]) \n",
    "print(\"다음날 주가(실제) : \",[188.36])"
   ]
  },
  {
   "cell_type": "code",
   "execution_count": null,
   "metadata": {},
   "outputs": [],
   "source": []
  }
 ],
 "metadata": {
  "kernelspec": {
   "display_name": "Python 3",
   "language": "python",
   "name": "python3"
  },
  "language_info": {
   "codemirror_mode": {
    "name": "ipython",
    "version": 3
   },
   "file_extension": ".py",
   "mimetype": "text/x-python",
   "name": "python",
   "nbconvert_exporter": "python",
   "pygments_lexer": "ipython3",
   "version": "3.7.3"
  }
 },
 "nbformat": 4,
 "nbformat_minor": 2
}
