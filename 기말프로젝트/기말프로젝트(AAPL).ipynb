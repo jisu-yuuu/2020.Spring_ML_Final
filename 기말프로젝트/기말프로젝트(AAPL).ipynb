{
 "cells": [
  {
   "cell_type": "code",
   "execution_count": 1,
   "metadata": {},
   "outputs": [],
   "source": [
    "import tensorflow as tf\n",
    "print(tf.__version__)\n",
    "import numpy as np\n",
    "import pandas as pd\n",
    "import datetime\n",
    "import matplotlib.pyplot as plt"
   ]
  },
  {
   "cell_type": "code",
   "execution_count": 2,
   "metadata": {},
   "outputs": [],
   "source": [
    "tf.set_random_seed(777)"
   ]
  },
  {
   "cell_type": "code",
   "execution_count": 3,
   "metadata": {},
   "outputs": [
    {
     "name": "stdout",
     "output_type": "stream",
     "text": [
      "<class 'pandas.core.frame.DataFrame'>\n",
      "RangeIndex: 5031 entries, 0 to 5030\n",
      "Data columns (total 7 columns):\n",
      " #   Column     Non-Null Count  Dtype \n",
      "---  ------     --------------  ----- \n",
      " 0   date       5031 non-null   object\n",
      " 1   open       5031 non-null   object\n",
      " 2   high       5031 non-null   object\n",
      " 3   low        5031 non-null   object\n",
      " 4   close      5031 non-null   object\n",
      " 5   adj close  5031 non-null   object\n",
      " 6   volume     5031 non-null   object\n",
      "dtypes: object(7)\n",
      "memory usage: 275.3+ KB\n",
      "stk의 shape:  (5030, 6)\n",
      "stk[0]:  [3.486607e+00 3.517857e+00 3.325893e+00 3.386161e+00 2.931389e+00\n",
      " 5.963160e+07]\n"
     ]
    }
   ],
   "source": [
    "file = 'AAPL.csv' \n",
    "encoding = 'euc-kr' \n",
    "name = ['date','open','high','low','close','adj close','volume']\n",
    "df = pd.read_csv(file, names=name, encoding=encoding) \n",
    "df.info() \n",
    "\n",
    "del df['date'] \n",
    "\n",
    "stk = df.values[1:].astype(np.float) \n",
    "print(\"stk의 shape: \", stk.shape)\n",
    "print(\"stk[0]: \", stk[0])"
   ]
  },
  {
   "cell_type": "code",
   "execution_count": 4,
   "metadata": {},
   "outputs": [
    {
     "name": "stdout",
     "output_type": "stream",
     "text": [
      "price[0]:  [3.486607 3.517857 3.325893 3.386161 2.931389]\n",
      "n_price[0]:  [0.00808405 0.00817848 0.00759842 0.00778053 0.00640634]\n",
      "price의 shape:  (5030, 5)\n",
      "----------------------------------------------------------------------------------------------------\n",
      "vol[0]:  [59631600.]\n",
      "n_vol[0]:  [0.02698162]\n",
      "vol의 shape:  (5030, 1)\n",
      "----------------------------------------------------------------------------------------------------\n",
      "a[0]_(날짜 제외 첫날):  [0.00808405 0.00817848 0.00759842 0.00778053 0.00640634 0.02698162]\n",
      "a[-1]_(날짜 제외 마지막날):  [0.97461767 1.         0.97425509 0.99924457 0.99924457 0.01325018]\n",
      "a의 shape:  (5030, 6)\n",
      "----------------------------------------------------------------------------------------------------\n",
      "b[0]_(첫날 종가):  [0.00778053]\n",
      "b[-1]_(마지막날 종가):  [0.99924457]\n"
     ]
    }
   ],
   "source": [
    "def mm_scaling(x):\n",
    "    x = np.asarray(x)\n",
    "    return (x - x.min()) / (x.max() - x.min() + 1e-7) \n",
    "\n",
    "price = stk[:,:-1]\n",
    "n_price = mm_scaling(price) \n",
    "print(\"price[0]: \", price[0])\n",
    "print(\"n_price[0]: \", n_price[0])\n",
    "print(\"price의 shape: \", price.shape)\n",
    "print(\"-\"*100)\n",
    "\n",
    "vol = stk[:,-1:]\n",
    "n_vol= mm_scaling(vol) \n",
    "print(\"vol[0]: \", vol[0])\n",
    "print(\"n_vol[0]: \", n_vol[0])\n",
    "print(\"vol의 shape: \", vol.shape)\n",
    "print(\"-\"*100)\n",
    "\n",
    "\n",
    "a = np.concatenate((n_price, n_vol), axis=1) \n",
    "print(\"a[0]_(날짜 제외 첫날): \", a[0])  \n",
    "print(\"a[-1]_(날짜 제외 마지막날): \", a[-1])  \n",
    "print(\"a의 shape: \", a.shape)\n",
    "print(\"-\"*100) \n",
    "\n",
    "b = a[:, [-3]] \n",
    "print(\"b[0]_(첫날 종가): \",b[0])    \n",
    "print(\"b[-1]_(마지막날 종가): \",b[-1])   \n"
   ]
  },
  {
   "cell_type": "code",
   "execution_count": 5,
   "metadata": {},
   "outputs": [
    {
     "name": "stdout",
     "output_type": "stream",
     "text": [
      "[[0.00808405 0.00817848 0.00759842 0.00778053 0.00640634 0.02698162]\n",
      " [0.00798962 0.00811777 0.00773332 0.0078817  0.00649393 0.02885529]\n",
      " [0.00794915 0.0079559  0.0073556  0.00738933 0.00606769 0.03399992]\n",
      " ...\n",
      " [0.00203794 0.00210269 0.00194081 0.00206815 0.00146116 0.05857989]\n",
      " [0.002066   0.002066   0.00193649 0.00202283 0.00142192 0.02490237]\n",
      " [0.00201851 0.00223219 0.00196239 0.00222356 0.00159569 0.03871974]] >> [0.00215017]\n"
     ]
    }
   ],
   "source": [
    "dataA = [] \n",
    "dataB = [] \n",
    "seq_len = 252\n",
    "\n",
    "for i in range(0, len(b) - seq_len):\n",
    "    aa = a[i : i+seq_len]\n",
    "    bb = b[i + seq_len] \n",
    "    if i is 0:\n",
    "        print(aa, \">>\", bb) \n",
    "    dataA.append(aa) \n",
    "    dataB.append(bb) "
   ]
  },
  {
   "cell_type": "code",
   "execution_count": 6,
   "metadata": {},
   "outputs": [],
   "source": [
    "trainsize = int(len(dataB) * 0.8)\n",
    "\n",
    "testsize = len(dataB) - trainsize\n",
    "\n",
    "trainA = np.array(dataA[0:trainsize])\n",
    "trainB = np.array(dataB[0:trainsize])\n",
    " \n",
    "testA = np.array(dataA[trainsize:len(dataA)])\n",
    "testB = np.array(dataB[trainsize:len(dataB)])"
   ]
  },
  {
   "cell_type": "code",
   "execution_count": 7,
   "metadata": {},
   "outputs": [
    {
     "name": "stdout",
     "output_type": "stream",
     "text": [
      "입력 :  Tensor(\"Placeholder:0\", shape=(?, 252, 6), dtype=float32)\n",
      "출력 :  Tensor(\"Placeholder_1:0\", shape=(?, 1), dtype=float32)\n",
      "targets :  Tensor(\"Placeholder_2:0\", shape=(?, 1), dtype=float32)\n",
      "predictions :  Tensor(\"Placeholder_3:0\", shape=(?, 1), dtype=float32)\n"
     ]
    }
   ],
   "source": [
    "A = tf.placeholder(tf.float32, [None, seq_len, 6])\n",
    "print(\"입력 : \", A)\n",
    "B= tf.placeholder(tf.float32, [None, 1])\n",
    "print(\"출력 : \", B)\n",
    "\n",
    "targets = tf.placeholder(tf.float32, [None, 1])\n",
    "print(\"targets : \", targets)\n",
    " \n",
    "predict = tf.placeholder(tf.float32, [None, 1])\n",
    "print(\"predictions : \", predict)"
   ]
  },
  {
   "cell_type": "code",
   "execution_count": 8,
   "metadata": {},
   "outputs": [
    {
     "name": "stdout",
     "output_type": "stream",
     "text": [
      "WARNING:tensorflow:\n",
      "The TensorFlow contrib module will not be included in TensorFlow 2.0.\n",
      "For more information, please see:\n",
      "  * https://github.com/tensorflow/community/blob/master/rfcs/20180907-contrib-sunset.md\n",
      "  * https://github.com/tensorflow/addons\n",
      "  * https://github.com/tensorflow/io (for I/O related ops)\n",
      "If you depend on functionality not listed there, please file an issue.\n",
      "\n",
      "WARNING:tensorflow:From <ipython-input-8-ccf8e99ecb8f>:5: BasicLSTMCell.__init__ (from tensorflow.python.ops.rnn_cell_impl) is deprecated and will be removed in a future version.\n",
      "Instructions for updating:\n",
      "This class is equivalent as tf.keras.layers.LSTMCell, and will be replaced by that in Tensorflow 2.0.\n"
     ]
    }
   ],
   "source": [
    "kp_prb = 1.0   \n",
    "f_bias = 1.0\n",
    "def lstmcell():\n",
    "    cell = tf.contrib.rnn.BasicLSTMCell(num_units=20, \n",
    "                                        forget_bias=f_bias, state_is_tuple=True, activation=tf.nn.softsign)\n",
    "    if kp_prb < 1.0:\n",
    "        cell = tf.contrib.rnn.DropoutWrapper(cell, out_kp_prb=kp_prb)\n",
    "    return cell\n",
    "\n",
    "num_stklayers = 1 \n",
    "multi_cell = tf.contrib.rnn.MultiRNNCell([lstmcell() for _ in range(1)], state_is_tuple=True) if num_stklayers > 1 else lstmcell()\n",
    " "
   ]
  },
  {
   "cell_type": "code",
   "execution_count": 9,
   "metadata": {
    "scrolled": false
   },
   "outputs": [
    {
     "name": "stdout",
     "output_type": "stream",
     "text": [
      "WARNING:tensorflow:From <ipython-input-9-bc628b3f2b80>:1: dynamic_rnn (from tensorflow.python.ops.rnn) is deprecated and will be removed in a future version.\n",
      "Instructions for updating:\n",
      "Please use `keras.layers.RNN(cell)`, which is equivalent to this API\n",
      "WARNING:tensorflow:From c:\\users\\jisu yu\\appdata\\local\\programs\\python\\python37\\lib\\site-packages\\tensorflow_core\\python\\ops\\rnn_cell_impl.py:735: Layer.add_variable (from tensorflow.python.keras.engine.base_layer) is deprecated and will be removed in a future version.\n",
      "Instructions for updating:\n",
      "Please use `layer.add_weight` method instead.\n",
      "WARNING:tensorflow:From c:\\users\\jisu yu\\appdata\\local\\programs\\python\\python37\\lib\\site-packages\\tensorflow_core\\python\\ops\\rnn_cell_impl.py:739: calling Zeros.__init__ (from tensorflow.python.ops.init_ops) with dtype is deprecated and will be removed in a future version.\n",
      "Instructions for updating:\n",
      "Call initializer instance with the dtype argument instead of passing it to the constructor\n",
      "hypothesis:  Tensor(\"rnn/transpose_1:0\", shape=(?, 252, 20), dtype=float32)\n",
      "WARNING:tensorflow:From c:\\users\\jisu yu\\appdata\\local\\programs\\python\\python37\\lib\\site-packages\\tensorflow_core\\contrib\\layers\\python\\layers\\layers.py:1866: Layer.apply (from tensorflow.python.keras.engine.base_layer) is deprecated and will be removed in a future version.\n",
      "Instructions for updating:\n",
      "Please use `layer.__call__` method instead.\n"
     ]
    }
   ],
   "source": [
    "hypo, _states = tf.nn.dynamic_rnn(multi_cell, A, dtype=tf.float32 )\n",
    "print(\"hypothesis: \", hypo)\n",
    "\n",
    "\n",
    "hypo = tf.contrib.layers.fully_connected(hypo[:, -1],1, activation_fn=tf.identity)\n"
   ]
  },
  {
   "cell_type": "code",
   "execution_count": 10,
   "metadata": {},
   "outputs": [],
   "source": [
    "loss = tf.reduce_sum(tf.square(hypo - B))\n",
    "\n",
    "learnrate = 0.001 \n",
    "opt = tf.train.AdamOptimizer(learnrate)\n",
    " \n",
    "train = opt.minimize(loss)\n",
    "\n",
    "rmse = tf.sqrt(tf.reduce_mean(tf.squared_difference(targets, predict)))\n"
   ]
  },
  {
   "cell_type": "code",
   "execution_count": 11,
   "metadata": {},
   "outputs": [
    {
     "name": "stdout",
     "output_type": "stream",
     "text": [
      "학습을 시작합니다.\n",
      "epoch: 100, train error(P): 0.0066550299525260925, test error(Q): 0.08577650040388107, Q-P: 0.07912147045135498\n",
      "epoch: 200, train error(P): 0.005147272255271673, test error(Q): 0.05636175721883774, Q-P: 0.05121448636054993\n",
      "epoch: 300, train error(P): 0.004778787028044462, test error(Q): 0.041158318519592285, Q-P: 0.036379531025886536\n",
      "epoch: 400, train error(P): 0.004664394073188305, test error(Q): 0.03423476219177246, Q-P: 0.02957036718726158\n",
      "epoch: 500, train error(P): 0.004574415739625692, test error(Q): 0.029853040352463722, Q-P: 0.025278624147176743\n",
      "epoch: 600, train error(P): 0.004493091255426407, test error(Q): 0.026728609576821327, Q-P: 0.02223551832139492\n",
      "epoch: 700, train error(P): 0.004416258540004492, test error(Q): 0.024471303448081017, Q-P: 0.020055044442415237\n",
      "epoch: 800, train error(P): 0.0043413350358605385, test error(Q): 0.022709254175424576, Q-P: 0.018367920070886612\n",
      "epoch: 900, train error(P): 0.0042691221460700035, test error(Q): 0.021048305556178093, Q-P: 0.016779184341430664\n",
      "epoch: 1000, train error(P): 0.004203164018690586, test error(Q): 0.019639858976006508, Q-P: 0.015436694957315922\n",
      "경과 시간: 0:30:09.712248\n",
      "에폭당 경과시간: 0:00:01.809712\n"
     ]
    }
   ],
   "source": [
    "trainerrors = [] \n",
    "testerrors = []  \n",
    "testpredict = ''        \n",
    "\n",
    "sess = tf.Session()\n",
    "sess.run(tf.global_variables_initializer())\n",
    "ep_num = 1000   \n",
    "\n",
    "starttime = datetime.datetime.now() \n",
    "print('학습을 시작합니다.')\n",
    "for epoch in range(ep_num):\n",
    "    _, _loss = sess.run([train, loss], feed_dict={A: trainA, B: trainB})\n",
    "    if ((epoch+1) % 100 == 0) or (epoch == ep_num-1): \n",
    "        trainpredict = sess.run(hypo, feed_dict={A: trainA})\n",
    "        trainerror = sess.run(rmse, feed_dict={targets: trainB, predict: trainpredict})\n",
    "        trainerrors.append(trainerror)\n",
    " \n",
    "        testpredict = sess.run(hypo, feed_dict={A: testA})\n",
    "        testerror = sess.run(rmse, feed_dict={targets: testB, predict: testpredict})\n",
    "        testerrors.append(testerror)\n",
    " \n",
    "        print(\"epoch: {}, train error(P): {}, test error(Q): {}, Q-P: {}\".format(epoch+1, trainerror, testerror, testerror-trainerror))\n",
    "        \n",
    "endtime = datetime.datetime.now() \n",
    "time = endtime - starttime \n",
    "print('경과 시간:',time)\n",
    "print('에폭당 경과시간:',time/ep_num)"
   ]
  },
  {
   "cell_type": "code",
   "execution_count": 12,
   "metadata": {},
   "outputs": [
    {
     "name": "stdout",
     "output_type": "stream",
     "text": [
      "입력 데이터 컬럼의 수 :  6\n",
      "결과 데이터 컬럼의수 : 1\n",
      "시퀀스 길이 :  252\n",
      "각 셀의 출력 크기 :  20\n",
      "forget_bias :  1.0\n",
      "stacked LSTM의 레이어 수: 1\n",
      "dropout 할때 keep 할 비율 : 1.0\n",
      "에폭 횟수 :  1000\n",
      "learning rate :  0.001\n",
      "train_error(최종) :  0.004203164\n",
      "test_error(최종) :  0.019639859\n",
      "test_error(최소) :  0.019639859\n"
     ]
    }
   ],
   "source": [
    "incol_num = 6\n",
    "outcol_num = 1 \n",
    "celhid = 20  \n",
    "\n",
    "\n",
    "print('입력 데이터 컬럼의 수 : ', incol_num  )\n",
    "print('결과 데이터 컬럼의수 :', outcol_num)\n",
    "print('시퀀스 길이 : ', seq_len)\n",
    "print('각 셀의 출력 크기 : ', celhid)\n",
    "print('forget_bias : ', f_bias)\n",
    "print('stacked LSTM의 레이어 수:', 1)\n",
    "print('dropout 할때 keep 할 비율 :', kp_prb)\n",
    " \n",
    "print('에폭 횟수 : ', ep_num)\n",
    "print('learning rate : ', learnrate)\n",
    " \n",
    "print('train_error(최종) : ', trainerrors[-1])\n",
    "print('test_error(최종) : ', testerrors[-1])\n",
    "print('test_error(최소) : ', np.min(testerrors))"
   ]
  },
  {
   "cell_type": "code",
   "execution_count": 13,
   "metadata": {},
   "outputs": [
    {
     "data": {
      "image/png": "[encoded data removed]",
      "text/plain": [
       "<Figure size 432x288 with 1 Axes>"
      ]
     },
     "metadata": {
      "needs_background": "light"
     },
     "output_type": "display_data"
    },
    {
     "data": {
      "image/png": "[encoded data removed]",
      "text/plain": [
       "<Figure size 432x288 with 1 Axes>"
      ]
     },
     "metadata": {
      "needs_background": "light"
     },
     "output_type": "display_data"
    }
   ],
   "source": [
    "plt.figure(1)\n",
    "plt.plot(trainerrors, 'red')\n",
    "plt.plot(testerrors, 'green')\n",
    "plt.xlabel(\"Epoch * 100\")\n",
    "plt.ylabel('RMSE')\n",
    " \n",
    "plt.figure(2)\n",
    "plt.plot(testB, 'red')\n",
    "plt.plot(testpredict, 'green')\n",
    "plt.xlabel('Time')\n",
    "plt.ylabel('Price')\n",
    "plt.show()"
   ]
  },
  {
   "cell_type": "code",
   "execution_count": 14,
   "metadata": {},
   "outputs": [
    {
     "name": "stdout",
     "output_type": "stream",
     "text": [
      "최근 데이터의 shape : (1, 252, 6)\n",
      "최근 데이터 :  [[[0.56112719 0.57747464 0.55889115 0.5721262  0.56534977 0.01129697]\n",
      "  [0.57714225 0.58789952 0.57656812 0.57946898 0.57260595 0.00887848]\n",
      "  [0.58635847 0.58980321 0.58255113 0.58620737 0.57926486 0.00926427]\n",
      "  ...\n",
      "  [0.97857611 0.98322956 0.97144483 0.97996606 0.97996606 0.00882532]\n",
      "  [0.97776028 0.98147692 0.96685187 0.97150532 0.97150532 0.00653189]\n",
      "  [0.97461767 1.         0.97425509 0.99924457 0.99924457 0.01325018]]]\n"
     ]
    }
   ],
   "source": [
    "redata = np.array([a[len(a)-seq_len : ]])\n",
    "print(\"최근 데이터의 shape :\", redata.shape)\n",
    "print(\"최근 데이터 : \", redata)"
   ]
  },
  {
   "cell_type": "code",
   "execution_count": 15,
   "metadata": {},
   "outputs": [],
   "source": [
    "def re_mm_scaling(org_x, x):\n",
    "    org_x = np.asarray(org_x)\n",
    "    x = np.asarray(x)\n",
    "    return (x * (org_x.max() - org_x.min() + 1e-7)) + org_x.min()"
   ]
  },
  {
   "cell_type": "code",
   "execution_count": 16,
   "metadata": {},
   "outputs": [
    {
     "name": "stdout",
     "output_type": "stream",
     "text": [
      "test predict :  [0.9438083]\n",
      "다음날 주가(예축) :  [313.154]\n",
      "다음날 주가(실제) :  [333.46]\n"
     ]
    }
   ],
   "source": [
    "testpredict = sess.run(hypo, feed_dict={A: redata})\n",
    " \n",
    "print(\"test predict : \", testpredict[0])\n",
    "testpredict = re_mm_scaling(price,testpredict) \n",
    "print(\"다음날 주가(예축) : \", testpredict[0]) \n",
    "print(\"다음날 주가(실제) : \",[333.46])"
   ]
  },
  {
   "cell_type": "code",
   "execution_count": null,
   "metadata": {},
   "outputs": [],
   "source": []
  }
 ],
 "metadata": {
  "kernelspec": {
   "display_name": "Python 3",
   "language": "python",
   "name": "python3"
  },
  "language_info": {
   "codemirror_mode": {
    "name": "ipython",
    "version": 3
   },
   "file_extension": ".py",
   "mimetype": "text/x-python",
   "name": "python",
   "nbconvert_exporter": "python",
   "pygments_lexer": "ipython3",
   "version": "3.7.3"
  }
 },
 "nbformat": 4,
 "nbformat_minor": 2
}
